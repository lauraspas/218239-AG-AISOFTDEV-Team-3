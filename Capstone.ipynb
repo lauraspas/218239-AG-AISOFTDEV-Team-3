{
 "cells": [
  {
   "cell_type": "markdown",
   "id": "5d5c4f11",
   "metadata": {},
   "source": [
    "### **Phase 1: AI as Product Manager (Planning & Requirements)**\n",
    "\n",
    "### **Goal:** Create a comprehensive Product Requirements Document (PRD).\n",
    "\n",
    "### **Action Steps**\n",
    "#### 1. Start with a high-level idea for your application\n",
    "#### 2. Use an LLM to brainstorm features, user personas, and user stories with acceptance criteria (as you did on **Day 1**)\n",
    "#### 3. Provide the brainstormed content and a template to the LLM to generate a formal `prd.md` file\n",
    "\n",
    "### **Artifacts**\n",
    "####  [`prd.md`](./Phase1/prd.md)\n",
    "\n",
    "### **Process:** We utilized *Day 1 Lab 2* to help generate our Product Requirements Document.\n",
    "---"
   ]
  },
  {
   "cell_type": "markdown",
   "id": "cad2297d",
   "metadata": {},
   "source": [
    "### **Phase 2: AI as Architect (Design & Architecture)**\n",
    "\n",
    "### **Goal:** Define your application's architecture and data structure.\n",
    "### **Action:**\n",
    "#### 1.  Feed your `prd.md` to an LLM.\n",
    "#### 2.  Prompt it to generate a high-level system architecture. Ask for **diagrams-as-code (PlantUML)** for your architecture document (as you did on **Day 2**).\n",
    "#### 3.  Prompt it to generate the `CREATE TABLE` statements for your database schema.\n",
    "### **Artifacts:** [`architecture.md`](./Phase2/adr_001_database_choice.md), [`schema.sql`](./Phase2/schema.sql), [`seed.sql`](./Phase2/seed_data.sql) and [Diagram](./Phase5/diagram2.png)\n",
    "\n",
    "### **Process:** We utilizied *Day 2 Lab 1* to generate our schema and seed data, *Day 2 Lab 2* to generate our ADR and *Day 2 Self-Paced Lab* to help generate our diagram with mermaid.    \n",
    "---"
   ]
  },
  {
   "cell_type": "markdown",
   "id": "26539f0f",
   "metadata": {},
   "source": [
    "### **Phase 3: AI as Backend Developer (Coding)**\n",
    "\n",
    "### **Goal:** Build a functional FastAPI backend.\n",
    "### **Action:**\n",
    "#### 1.  Provide your `schema.sql` to an LLM.\n",
    "#### 2.  Prompt it to generate Pydantic and SQLAlchemy models.\n",
    "#### 3.  Prompt it to generate the FastAPI application boilerplate with full CRUD endpoints for your models (as you did on **Day 3**).\n",
    "#### 4.  Integrate the generated code and connect it to a live SQLite database.\n",
    "### **Artifacts:** [`main.py`](./Phase3/main.py), [`inventory.db`](./Phase3/inventory.db) \n",
    "\n",
    "### **Process:** We used *Day 3 Lab 1* to help generate our complete database and main.py file.\n",
    "---"
   ]
  },
  {
   "cell_type": "markdown",
   "id": "2519e111",
   "metadata": {},
   "source": [
    "### **Phase 4: AI as QA Engineer (Testing & Security)**\n",
    "\n",
    "### **Goal:** Ensure your backend is robust and secure.\n",
    "### **Action:**\n",
    "#### 1.  Provide your `main.py` source code to an LLM.\n",
    "#### 2.  Prompt it to generate a suite of `pytest` unit tests for your API, including \"happy path\" and edge cases (as you did on **Day 4**).\n",
    "#### 3.  Prompt it to act as a security expert and identify potential vulnerabilities in your code (e.g., SQL injection, lack of input validation).\n",
    "### **Artifacts:** [`test_main.py`](./Phase4/test_main.py), [`security_review.md`](./Phase4/security_review.md)\n",
    "\n",
    "### **Process:** We used *Day 4 Lab 1* to help generate test_main.py and used Co-Pilot to identify any security issues in our app.\n",
    "---"
   ]
  },
  {
   "cell_type": "markdown",
   "id": "b3605b28",
   "metadata": {},
   "source": [
    "### **Phase 5: AI as Frontend Developer (UI/UX)**\n",
    "\n",
    "### **Goal:** Create a user interface for your application.\n",
    "### **Action:**\n",
    "#### 1.  Create a simple wireframe or find a [screenshot](./Phase5/Tjy7914GZo.png) of a UI you like.\n",
    "#### 2.  Use a **vision-capable LLM** to generate a React component with Tailwind CSS from that image (as you did on **Day 7/8**).\n",
    "#### 3.  Prompt a text-based LLM to create additional components as needed.\n",
    "### **Artifact:** [`src/App.js`](./Phase5/App.jsx) and other React components as well as [`README.md`](./Phase5/README.md).\n",
    "\n",
    "### **Process:** We used *Day 3 Lab 2 Challenge 3* to help generate a comprehensive README.md and *Day 8 Lab 1* to take an AI generate UI mockup and convert it into usable React code.\n",
    "#### \n",
    "---"
   ]
  }
 ],
 "metadata": {
  "kernelspec": {
   "display_name": "labenv",
   "language": "python",
   "name": "python3"
  },
  "language_info": {
   "codemirror_mode": {
    "name": "ipython",
    "version": 3
   },
   "file_extension": ".py",
   "mimetype": "text/x-python",
   "name": "python",
   "nbconvert_exporter": "python",
   "pygments_lexer": "ipython3",
   "version": "3.11.5"
  }
 },
 "nbformat": 4,
 "nbformat_minor": 5
}
